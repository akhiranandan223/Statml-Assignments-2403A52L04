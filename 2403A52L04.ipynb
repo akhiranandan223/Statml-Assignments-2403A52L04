{
  "nbformat": 4,
  "nbformat_minor": 0,
  "metadata": {
    "colab": {
      "provenance": []
    },
    "kernelspec": {
      "name": "python3",
      "display_name": "Python 3"
    },
    "language_info": {
      "name": "python"
    }
  },
  "cells": [
    {
      "cell_type": "code",
      "source": [],
      "metadata": {
        "id": "83uWKoHdC38y"
      },
      "execution_count": null,
      "outputs": []
    },
    {
      "cell_type": "code",
      "execution_count": 27,
      "metadata": {
        "colab": {
          "base_uri": "https://localhost:8080/"
        },
        "id": "ASqOo1yG9qNU",
        "outputId": "d0d55287-e3a6-413e-f769-2ff4f3fcdd3f"
      },
      "outputs": [
        {
          "output_type": "stream",
          "name": "stdout",
          "text": [
            "[23 45 67]\n",
            "[10 34 65]\n",
            "67\n",
            "23\n",
            "45.0\n",
            "45.0\n",
            "322.6666666666667\n",
            "17.962924780409974\n",
            "[[2, 5, 4], [4, 9, 6], [8, 9, 2]]\n",
            "[[2 5 4]\n",
            " [4 9 6]\n",
            " [8 9 2]]\n",
            "([12, 43, 65], [21, 65, 32], [40, 89, 67])\n"
          ]
        }
      ],
      "source": [
        "l=[23,45,67]\n",
        "x=[10,34,65]\n",
        "import numpy as np\n",
        "import pandas as pd\n",
        "a=np.array(l)\n",
        "b=np.array(x)\n",
        "print(a)\n",
        "print(b)\n",
        "print(np.max(l))\n",
        "print(np.min(l))\n",
        "print(np.mean(l))\n",
        "print(np.median(l))\n",
        "print(np.var(l))\n",
        "print(np.std(l))\n",
        "np.power(3,4)\n",
        "np.sqrt(9)\n",
        "m=[[2,5,4],[4,9,6],[8,9,2]]\n",
        "print(m)\n",
        "m1=np.array(m)\n",
        "print(m1)\n",
        "m=[12,43,65],[21,65,32],[40,89,67]\n",
        "print(m)\n"
      ]
    },
    {
      "cell_type": "code",
      "source": [
        "m=[23,45,21],[40,8,98],[23,97,65]\n",
        "print(m)\n",
        "m1=np.array(m)\n",
        "print(m1)\n",
        "m1=[34,46,98],[23,44,87],[76,75,90]\n",
        "print(m1)\n",
        "m1=np.array(m1)\n",
        "np.array(m+m1)\n",
        "np.array(m-m1)"
      ],
      "metadata": {
        "colab": {
          "base_uri": "https://localhost:8080/"
        },
        "id": "tujvks-AHRJo",
        "outputId": "fff16627-55a6-4550-bb94-d6fb81359ba1"
      },
      "execution_count": 34,
      "outputs": [
        {
          "output_type": "stream",
          "name": "stdout",
          "text": [
            "([23, 45, 21], [40, 8, 98], [23, 97, 65])\n",
            "[[23 45 21]\n",
            " [40  8 98]\n",
            " [23 97 65]]\n",
            "([34, 46, 98], [23, 44, 87], [76, 75, 90])\n"
          ]
        },
        {
          "output_type": "execute_result",
          "data": {
            "text/plain": [
              "array([[-11,  -1, -77],\n",
              "       [ 17, -36,  11],\n",
              "       [-53,  22, -25]])"
            ]
          },
          "metadata": {},
          "execution_count": 34
        }
      ]
    },
    {
      "cell_type": "code",
      "source": [
        "x=[5,7,2]\n",
        "y=[9,4,6]\n",
        "import matplotlib.pyplot as plt\n",
        "plt.plot(x,y,'b')"
      ],
      "metadata": {
        "colab": {
          "base_uri": "https://localhost:8080/",
          "height": 447
        },
        "id": "Lyot5tMwHRMO",
        "outputId": "90187f7f-faef-47a0-e1bc-255b944b342b"
      },
      "execution_count": 41,
      "outputs": [
        {
          "output_type": "execute_result",
          "data": {
            "text/plain": [
              "[<matplotlib.lines.Line2D at 0x7b88e5c70a30>]"
            ]
          },
          "metadata": {},
          "execution_count": 41
        },
        {
          "output_type": "display_data",
          "data": {
            "text/plain": [
              "<Figure size 640x480 with 1 Axes>"
            ],
            "image/png": "[encoded data removed]"
          },
          "metadata": {}
        }
      ]
    },
    {
      "cell_type": "code",
      "source": [
        "import"
      ],
      "metadata": {
        "id": "D2cm7y9THRQu"
      },
      "execution_count": null,
      "outputs": []
    },
    {
      "cell_type": "code",
      "source": [],
      "metadata": {
        "id": "AdJb1-qBN0_S"
      },
      "execution_count": null,
      "outputs": []
    },
    {
      "cell_type": "code",
      "source": [
        "d=pd.read_csv(\"/content/sample_data/california_housing_train.csv\")\n"
      ],
      "metadata": {
        "id": "bdmtf7o6N0vz"
      },
      "execution_count": 44,
      "outputs": []
    }
  ]
}